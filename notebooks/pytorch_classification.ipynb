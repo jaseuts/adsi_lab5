{
 "cells": [
  {
   "cell_type": "code",
   "execution_count": 18,
   "metadata": {},
   "outputs": [],
   "source": [
    "import pandas as pd\n",
    "import numpy as np\n",
    "from sklearn.preprocessing import StandardScaler, OneHotEncoder\n",
    "import torch\n",
    "import torch.nn as nn"
   ]
  },
  {
   "cell_type": "code",
   "execution_count": 2,
   "metadata": {},
   "outputs": [],
   "source": [
    "%load_ext autoreload\n",
    "%autoreload 2"
   ]
  },
  {
   "cell_type": "code",
   "execution_count": 1,
   "metadata": {},
   "outputs": [
    {
     "name": "stdout",
     "output_type": "stream",
     "text": [
      "--2022-03-11 11:52:08--  https://code.datasciencedojo.com/datasciencedojo/datasets/raw/master/Default%20of%20Credit%20Card%20Clients/default%20of%20credit%20card%20clients.csv\n",
      "Resolving code.datasciencedojo.com (code.datasciencedojo.com)... 167.99.111.153\n",
      "Connecting to code.datasciencedojo.com (code.datasciencedojo.com)|167.99.111.153|:443... connected.\n",
      "HTTP request sent, awaiting response... 200 OK\n",
      "Length: 2867294 (2.7M) [text/plain]\n",
      "Saving to: ‘../data/raw/default of credit card clients.csv’\n",
      "\n",
      "default of credit c 100%[===================>]   2.73M  2.11MB/s    in 1.3s    \n",
      "\n",
      "2022-03-11 11:52:10 (2.11 MB/s) - ‘../data/raw/default of credit card clients.csv’ saved [2867294/2867294]\n",
      "\n"
     ]
    }
   ],
   "source": [
    "!wget -P ../data/raw https://code.datasciencedojo.com/datasciencedojo/datasets/raw/master/Default%20of%20Credit%20Card%20Clients/default%20of%20credit%20card%20clients.csv"
   ]
  },
  {
   "cell_type": "code",
   "execution_count": 9,
   "metadata": {},
   "outputs": [],
   "source": [
    "df = pd.read_csv('../data/raw/default of credit card clients.csv', skiprows=1)\n",
    "df_cleaned = df.copy()\n",
    "df_cleaned.drop('ID', axis=1, inplace=True)\n",
    "target_col = 'default payment next month'\n",
    "cat_cols = ['SEX', 'EDUCATION', 'MARRIAGE', 'PAY_0', 'PAY_2', 'PAY_3', 'PAY_4', 'PAY_5', 'PAY_6']\n",
    "num_cols = list(set(df_cleaned.columns) - (set(cat_cols) | set([target_col])))"
   ]
  },
  {
   "cell_type": "code",
   "execution_count": 10,
   "metadata": {},
   "outputs": [],
   "source": [
    "from src.data.sets import split_sets_random, save_sets\n",
    "\n",
    "sc = StandardScaler()\n",
    "df_cleaned[num_cols] = sc.fit_transform(df_cleaned[num_cols])\n",
    "\n",
    "ohe = OneHotEncoder(sparse=False)\n",
    "X_cat = pd.DataFrame(ohe.fit_transform(df_cleaned[cat_cols]))\n",
    "X_cat.columns = ohe.get_feature_names(cat_cols)\n",
    "\n",
    "df_cleaned.drop(cat_cols, axis=1, inplace=True)\n",
    "X = pd.concat([df_cleaned, X_cat ], axis=1)\n",
    "\n",
    "X_train, y_train, X_val, y_val, X_test, y_test = split_sets_random(X, target_col=target_col, test_ratio=0.2)"
   ]
  },
  {
   "cell_type": "code",
   "execution_count": 11,
   "metadata": {},
   "outputs": [],
   "source": [
    "!mkdir ../data/processed/credit_card_default\n",
    "save_sets(X_train=X_train, y_train=y_train, X_val=X_val, y_val=y_val, X_test=X_test, y_test=y_test, path='../data/processed/credit_card_default/')"
   ]
  },
  {
   "cell_type": "code",
   "execution_count": 12,
   "metadata": {},
   "outputs": [],
   "source": [
    "from src.models.pytorch import PytorchDataset\n",
    "from src.models.performance import print_class_perf\n",
    "\n",
    "train_dataset = PytorchDataset(X=X_train, y=y_train)\n",
    "val_dataset = PytorchDataset(X=X_val, y=y_val)\n",
    "test_dataset = PytorchDataset(X=X_test, y=y_test)"
   ]
  },
  {
   "cell_type": "code",
   "execution_count": 14,
   "metadata": {},
   "outputs": [
    {
     "name": "stdout",
     "output_type": "stream",
     "text": [
      "Accuracy Training: 0.7787222222222222\n",
      "F1 Training: 0.6818471055307425\n"
     ]
    }
   ],
   "source": [
    "from src.models.null import NullModel\n",
    "from src.models.performance import print_class_perf\n",
    "\n",
    "baseline_model = NullModel(target_type='classification')\n",
    "y_base = baseline_model.fit_predict(y_train)\n",
    "print_class_perf(y_base, y_train, set_name='Training', average='weighted')"
   ]
  },
  {
   "cell_type": "code",
   "execution_count": 16,
   "metadata": {},
   "outputs": [
    {
     "data": {
      "text/plain": [
       "PytorchBinary(\n",
       "  (layer_1): Linear(in_features=91, out_features=256, bias=True)\n",
       "  (layer_out): Linear(in_features=256, out_features=1, bias=True)\n",
       "  (sigmoid): Sigmoid()\n",
       ")"
      ]
     },
     "execution_count": 16,
     "metadata": {},
     "output_type": "execute_result"
    }
   ],
   "source": [
    "from src.models.pytorch import PytorchBinary\n",
    "from src.models.pytorch import get_device\n",
    "\n",
    "model = PytorchBinary(X_train.shape[1])\n",
    "device = get_device()\n",
    "model.to(device)"
   ]
  },
  {
   "cell_type": "code",
   "execution_count": 19,
   "metadata": {},
   "outputs": [
    {
     "name": "stdout",
     "output_type": "stream",
     "text": [
      "Epoch: 0\n",
      "\t(train)\tLoss: 0.0165\t|\tAcc: 77.9%\n",
      "\t(valid)\tLoss: 0.0148\t|\tAcc: 77.9%\n",
      "Epoch: 1\n",
      "\t(train)\tLoss: 0.0145\t|\tAcc: 77.9%\n",
      "\t(valid)\tLoss: 0.0141\t|\tAcc: 77.9%\n",
      "Epoch: 2\n",
      "\t(train)\tLoss: 0.0141\t|\tAcc: 77.9%\n",
      "\t(valid)\tLoss: 0.0140\t|\tAcc: 77.9%\n",
      "Epoch: 3\n",
      "\t(train)\tLoss: 0.0139\t|\tAcc: 77.9%\n",
      "\t(valid)\tLoss: 0.0138\t|\tAcc: 77.9%\n",
      "Epoch: 4\n",
      "\t(train)\tLoss: 0.0138\t|\tAcc: 77.9%\n",
      "\t(valid)\tLoss: 0.0139\t|\tAcc: 77.9%\n",
      "Epoch: 5\n",
      "\t(train)\tLoss: 0.0138\t|\tAcc: 77.9%\n",
      "\t(valid)\tLoss: 0.0138\t|\tAcc: 77.9%\n",
      "Epoch: 6\n",
      "\t(train)\tLoss: 0.0137\t|\tAcc: 77.9%\n",
      "\t(valid)\tLoss: 0.0138\t|\tAcc: 77.9%\n",
      "Epoch: 7\n",
      "\t(train)\tLoss: 0.0138\t|\tAcc: 77.9%\n",
      "\t(valid)\tLoss: 0.0138\t|\tAcc: 77.9%\n",
      "Epoch: 8\n",
      "\t(train)\tLoss: 0.0137\t|\tAcc: 77.9%\n",
      "\t(valid)\tLoss: 0.0137\t|\tAcc: 77.9%\n",
      "Epoch: 9\n",
      "\t(train)\tLoss: 0.0137\t|\tAcc: 77.9%\n",
      "\t(valid)\tLoss: 0.0137\t|\tAcc: 77.9%\n"
     ]
    }
   ],
   "source": [
    "from src.models.pytorch import train_binary, test_binary\n",
    "\n",
    "criterion = nn.BCELoss()\n",
    "optimizer = torch.optim.Adam(model.parameters(), lr=0.0001)\n",
    "scheduler = torch.optim.lr_scheduler.StepLR(optimizer, 1, gamma=0.9)\n",
    "N_EPOCHS = 10\n",
    "BATCH_SIZE = 32\n",
    "\n",
    "for epoch in range(N_EPOCHS):\n",
    "    train_loss, train_acc = train_binary(train_dataset, model=model, criterion=criterion, optimizer=optimizer, batch_size=BATCH_SIZE, device=device, scheduler=scheduler)\n",
    "    valid_loss, valid_acc = test_binary(val_dataset, model=model, criterion=criterion, batch_size=BATCH_SIZE, device=device)\n",
    "\n",
    "    print(f'Epoch: {epoch}')\n",
    "    print(f'\\t(train)\\tLoss: {train_loss:.4f}\\t|\\tAcc: {train_acc * 100:.1f}%')\n",
    "    print(f'\\t(valid)\\tLoss: {valid_loss:.4f}\\t|\\tAcc: {valid_acc * 100:.1f}%')"
   ]
  },
  {
   "cell_type": "code",
   "execution_count": 20,
   "metadata": {},
   "outputs": [],
   "source": [
    "torch.save(model, \"../models/pytorch_clf_default.pt\")"
   ]
  },
  {
   "cell_type": "code",
   "execution_count": 21,
   "metadata": {},
   "outputs": [
    {
     "name": "stdout",
     "output_type": "stream",
     "text": [
      "\tLoss: 0.0136\t|\tAccuracy: 0.8\n"
     ]
    }
   ],
   "source": [
    "test_loss, test_acc = test_binary(test_dataset, model=model, criterion=criterion, batch_size=BATCH_SIZE, device=device)\n",
    "print(f'\\tLoss: {test_loss:.4f}\\t|\\tAccuracy: {test_acc:.1f}')"
   ]
  },
  {
   "cell_type": "code",
   "execution_count": null,
   "metadata": {},
   "outputs": [],
   "source": []
  },
  {
   "cell_type": "code",
   "execution_count": null,
   "metadata": {},
   "outputs": [],
   "source": []
  },
  {
   "cell_type": "code",
   "execution_count": null,
   "metadata": {},
   "outputs": [],
   "source": []
  },
  {
   "cell_type": "code",
   "execution_count": null,
   "metadata": {},
   "outputs": [],
   "source": []
  }
 ],
 "metadata": {
  "kernelspec": {
   "display_name": "Python 3",
   "language": "python",
   "name": "python3"
  },
  "language_info": {
   "codemirror_mode": {
    "name": "ipython",
    "version": 3
   },
   "file_extension": ".py",
   "mimetype": "text/x-python",
   "name": "python",
   "nbconvert_exporter": "python",
   "pygments_lexer": "ipython3",
   "version": "3.7.6"
  }
 },
 "nbformat": 4,
 "nbformat_minor": 4
}
